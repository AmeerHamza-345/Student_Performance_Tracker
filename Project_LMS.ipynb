{
  "nbformat": 4,
  "nbformat_minor": 0,
  "metadata": {
    "colab": {
      "provenance": [],
      "authorship_tag": "ABX9TyOS8kIQLi2cV2dgnC/fhJ6N",
      "include_colab_link": true
    },
    "kernelspec": {
      "name": "python3",
      "display_name": "Python 3"
    },
    "language_info": {
      "name": "python"
    }
  },
  "cells": [
    {
      "cell_type": "markdown",
      "metadata": {
        "id": "view-in-github",
        "colab_type": "text"
      },
      "source": [
        "<a href=\"https://colab.research.google.com/github/AmeerHamza-345/Student_Performance_Tracker/blob/main/Project_LMS.ipynb\" target=\"_parent\"><img src=\"https://colab.research.google.com/assets/colab-badge.svg\" alt=\"Open In Colab\"/></a>"
      ]
    },
    {
      "cell_type": "markdown",
      "source": [
        "#**Step 1: Design the Project**\n",
        "**Key Actions:** Adding students, storing their grades, calculating averages, and tracking pass/fail status.\n",
        "\n",
        "**Data:** You'll work with student names (strings), scores in 3 subjects (integers), and passing thresholds.\n",
        "##**Step 2: Class Design**"
      ],
      "metadata": {
        "id": "-iXVBCHZUQdi"
      }
    },
    {
      "cell_type": "code",
      "source": [
        "\n",
        "class Student:\n",
        "    def __init__(self, name:str, scores:float):\n",
        "        self.name:str = name\n",
        "        self.scores:float = scores\n",
        "\n",
        "    def calculate_average(self):\n",
        "        return sum(self.scores) / len(self.scores)\n",
        "\n",
        "    def is_passing(self):\n",
        "        if all(score >= 40 for score in self.scores):\n",
        "            return True\n",
        "        else:\n",
        "            return False\n",
        "#student1 = Student(\"Alice\", [35, 90, 78])\n",
        "#print(student1.is_passing())"
      ],
      "metadata": {
        "id": "4dtGztphkuql"
      },
      "execution_count": 35,
      "outputs": []
    },
    {
      "cell_type": "code",
      "source": [
        "class PerformanceTracker:\n",
        "    def __init__(self):\n",
        "        self.students:dict = {}\n",
        "\n",
        "    def add_student(self, name:str, scores:float):\n",
        "        self.students[name] = Student(name, scores)\n",
        "\n",
        "    def calculate_class_average(self):\n",
        "        total_average:float = sum(student.calculate_average() for student in self.students.values())\n",
        "        return total_average / len(self.students) if self.students else 0\n",
        "\n",
        "    def display_student_performance(self):\n",
        "        for name, student in self.students.items():\n",
        "            #print(name,student)\n",
        "            avg:float = student.calculate_average()\n",
        "            status:str = \"Passing\" if student.is_passing() else \"Failed ! Need Improvement\"\n",
        "            print(f\"{name} - Average: {avg:.2f}, Status: {status}\")\n"
      ],
      "metadata": {
        "id": "1nw_6FaxUyoh"
      },
      "execution_count": 36,
      "outputs": []
    },
    {
      "cell_type": "code",
      "source": [
        "def get_student_data():\n",
        "    while True:\n",
        "        try:\n",
        "            name:str = input(\"Enter student's name (or 'q' to quit): \")\n",
        "            if name.lower() == 'q':\n",
        "                break\n",
        "            scores:int = [int(input(f\"Enter {subject} score: \")) for subject in ['Math', 'Science', 'English']]\n",
        "            return name, scores\n",
        "        except ValueError:\n",
        "            print(\"Invalid input, please enter numeric values for scores.\")\n"
      ],
      "metadata": {
        "id": "MPzEFkUwU4hJ"
      },
      "execution_count": 37,
      "outputs": []
    },
    {
      "cell_type": "code",
      "source": [
        "def main():\n",
        "    tracker = PerformanceTracker()\n",
        "\n",
        "    while True:\n",
        "        data:tuple[str,int] = get_student_data()\n",
        "        if data is None:\n",
        "            break\n",
        "        name, scores = data0\n",
        "        tracker.add_student(name, scores)\n",
        "\n",
        "    print(\"\\nClass Performance:\")\n",
        "    tracker.display_student_performance()\n",
        "    print(f\"\\nClass Average: {tracker.calculate_class_average():.2f}\")\n",
        "\n",
        "if __name__ == \"__main__\":\n",
        "    main()\n"
      ],
      "metadata": {
        "colab": {
          "base_uri": "https://localhost:8080/"
        },
        "id": "3wTGgu_wU9LN",
        "outputId": "99adfd15-ae03-41a7-be93-75376d1afd18"
      },
      "execution_count": 38,
      "outputs": [
        {
          "output_type": "stream",
          "name": "stdout",
          "text": [
            "Enter student's name (or 'q' to quit): ali\n",
            "Enter Math score: 1\n",
            "Enter Science score: 2\n",
            "Enter English score: 3\n",
            "Enter student's name (or 'q' to quit): ahmad\n",
            "Enter Math score: 34\n",
            "Enter Science score: 45\n",
            "Enter English score: sdf\n",
            "Invalid input, please enter numeric values for scores.\n",
            "Enter student's name (or 'q' to quit): hamza\n",
            "Enter Math score: 6\n",
            "Enter Science score: 90\n",
            "Enter English score: 100\n",
            "Enter student's name (or 'q' to quit): q\n",
            "\n",
            "Class Performance:\n",
            "ali - Average: 2.00, Status: Failed ! Need Improvement\n",
            "hamza - Average: 65.33, Status: Failed ! Need Improvement\n",
            "\n",
            "Class Average: 33.67\n"
          ]
        }
      ]
    }
  ]
}